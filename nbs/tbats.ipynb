{
 "cells": [
  {
   "cell_type": "code",
   "execution_count": 1,
   "id": "dc5a5ae9-fee4-4b35-be95-b4dbf8c55c91",
   "metadata": {
    "tags": []
   },
   "outputs": [],
   "source": [
    "#| default_exp tbats"
   ]
  },
  {
   "cell_type": "markdown",
   "id": "376e8aea-dd7a-4835-aba5-1cdfd3765877",
   "metadata": {},
   "source": [
    "# TBATS "
   ]
  },
  {
   "cell_type": "code",
   "execution_count": 54,
   "id": "4da8ebe4-816b-474b-89f3-8a4187823ffa",
   "metadata": {
    "tags": []
   },
   "outputs": [],
   "source": [
    "#| export\n",
    "import math \n",
    "import os \n",
    "import numpy as np \n",
    "import statsmodels.api as sm \n",
    "import matplotlib.pyplot as plt\n",
    "from numba import njit \n",
    "from numpy import linalg as LA \n",
    "from scipy.optimize import minimize_scalar, fmin\n",
    "from scipy.stats import f\n",
    "from time import time "
   ]
  },
  {
   "cell_type": "code",
   "execution_count": 3,
   "id": "d38d0e9e-0d6f-4d79-a3a4-38549367d560",
   "metadata": {
    "tags": []
   },
   "outputs": [],
   "source": [
    "# Global variables \n",
    "NOGIL = os.environ.get('NUMBA_RELEASE_GIL', 'False').lower() in ['true']\n",
    "CACHE = os.environ.get('NUMBA_CACHE', 'False').lower() in ['true']"
   ]
  },
  {
   "cell_type": "markdown",
   "id": "ef0b27e8-1a54-48b4-b763-fb7648920a0f",
   "metadata": {},
   "source": [
    "## Load data "
   ]
  },
  {
   "cell_type": "code",
   "execution_count": 4,
   "id": "0e9c3247-bef9-4283-8806-d06e97afb72a",
   "metadata": {
    "tags": []
   },
   "outputs": [
    {
     "name": "stderr",
     "output_type": "stream",
     "text": [
      "C:\\Users\\maria\\AppData\\Local\\Programs\\Python\\Python39\\lib\\site-packages\\statsforecast\\core.py:21: TqdmExperimentalWarning: Using `tqdm.autonotebook.tqdm` in notebook mode. Use `tqdm.tqdm` instead to force console mode (e.g. in jupyter console)\n",
      "  from tqdm.autonotebook import tqdm\n"
     ]
    }
   ],
   "source": [
    "# AirPassengers \n",
    "from statsforecast.utils import AirPassengers as ap \n",
    "\n",
    "# USAccDeaths\n",
    "USAccDeaths = np.array([9007, 8106, 8928, 9137, 10017, 10826, 11317, 10744, 9713, 9938, 9161, 8927, \n",
    "                        7750, 6981, 8038, 8422, 8714, 9512, 10120, 9823, 8743, 9129, 8710, 8680, \n",
    "                        8162, 7306, 8124, 7870, 9387, 9556, 10093, 9620, 8285, 8466, 8160, 8034, \n",
    "                        7717, 7461, 7767, 7925, 8623, 8945, 10078, 9179, 8037, 8488, 7874, 8647, \n",
    "                        7792, 6957, 7726, 8106, 8890, 9299, 10625, 9302, 8314, 8850, 8265, 8796,\n",
    "                        7836, 6892, 7791, 8192, 9115, 9434, 10484, 9827, 9110, 9070, 8633, 9240]) \n",
    "\n",
    "# Electricity consumption \n",
    "import pandas as pd \n",
    "elec_df = pd.read_csv('PJMW_hourly.csv')\n",
    "elec = elec_df['PJMW_MW']\n",
    "elec = elec[0:(24*7*2+1)]\n",
    "elec = np.array(elec)"
   ]
  },
  {
   "cell_type": "markdown",
   "id": "28f33471-9557-4a3a-90f9-f1d4d127a9b7",
   "metadata": {},
   "source": [
    "## Box-Cox transformation"
   ]
  },
  {
   "cell_type": "code",
   "execution_count": 5,
   "id": "87194399-4e69-4d25-90d5-58bb3e5a96b6",
   "metadata": {
    "tags": []
   },
   "outputs": [],
   "source": [
    "#| exporti\n",
    "@njit(nogil=NOGIL, cache=CACHE)\n",
    "def guer_cv(lam, x, season_length): \n",
    "    \n",
    "    \"\"\"\n",
    "    Minimize this funtion to find the optimal parameter for the Box-Cox transformation.     \n",
    "    \"\"\"\n",
    "    period = np.append(season_length, 2)\n",
    "    period = np.round(np.max(period)) \n",
    "    n = len(x) \n",
    "    nyears = int(np.floor(n/period))\n",
    "    nobs = np.floor(nyears*period)\n",
    "    m = int(n-nobs)\n",
    "    xmat = x[m:n].reshape((nyears, period))\n",
    "\n",
    "    xmean = np.full(xmat.shape[0], fill_value = np.nan)\n",
    "    for k in range(xmat.shape[0]): \n",
    "        xmean[k] = np.nanmean(xmat[k])\n",
    "\n",
    "    xsd = np.full(xmat.shape[0], fill_value = np.nan)\n",
    "    for k in range(xmat.shape[0]): \n",
    "        vals = xmat[k]\n",
    "        svar = (vals-np.nanmean(vals))**2 \n",
    "        svar = np.sum(svar)/(len(svar)-1) # sample variance \n",
    "        xsd[k] = np.sqrt(svar) # sample standard deviation \n",
    "\n",
    "    xrat = xsd/(xmean**(1-lam))\n",
    "\n",
    "    sd = (xrat-np.nanmean(xrat))**2 # standard deviation \n",
    "    sd = np.nansum(sd)/(len(sd)-1)\n",
    "    sd = np.sqrt(sd)\n",
    "    \n",
    "    return sd/np.nanmean(xrat)"
   ]
  },
  {
   "cell_type": "code",
   "execution_count": 6,
   "id": "01ec72ac-c9eb-4a8b-9768-5784ddbf3fcf",
   "metadata": {
    "tags": []
   },
   "outputs": [],
   "source": [
    "def guerrero(x, season_length, lower=-1, upper=2): \n",
    "    \n",
    "    \"\"\"Finds optimal paramater for Box-Cox transformation using Guerrero's method\"\"\"\n",
    "    \n",
    "    if np.any(x < 0): \n",
    "        raise ValueError(\"Guerrero's method for selecting a Box-Cox parameter (lambda) is for strictly positive data\")\n",
    "    \n",
    "    max_freq = np.max(season_length)\n",
    "    if len(x) <= 2*max_freq: \n",
    "        res = np.array([1]) \n",
    "    else: \n",
    "        lam = 0 # initial guess \n",
    "        opt = minimize_scalar(guer_cv, lam, args = (x, season_length), method = 'bounded', bounds = (lower, upper))\n",
    "        res = np.array([opt.x])\n",
    "    \n",
    "    return res"
   ]
  },
  {
   "cell_type": "code",
   "execution_count": 7,
   "id": "cc2b29c0-c4c0-4ceb-971b-ffdc754af362",
   "metadata": {
    "tags": []
   },
   "outputs": [],
   "source": [
    "@njit(nogil=NOGIL, cache=CACHE)\n",
    "def BoxCox(y, season_length, BoxCox_lambda): \n",
    "    \n",
    "    \"\"\"Applies Box-Cox transformation with parameter BoxCox_lambda\"\"\"\n",
    "    \n",
    "    if BoxCox_lambda == 0: \n",
    "        w = np.log(y)\n",
    "    else: \n",
    "        w = np.sign(y)*((np.abs(y)**BoxCox_lambda)-1)\n",
    "        w = w/BoxCox_lambda\n",
    "        \n",
    "    return w"
   ]
  },
  {
   "cell_type": "code",
   "execution_count": 8,
   "id": "0608849c-07d2-4c08-a29f-c2ea8263b2c7",
   "metadata": {
    "tags": []
   },
   "outputs": [],
   "source": [
    "@njit(nogil=NOGIL, cache=CACHE)\n",
    "def InvBoxCox(w, season_length, BoxCox_lambda): \n",
    "    \n",
    "    \"\"\"Inverts Box-Cox transformation with parameter BoxCox_lambda\"\"\"\n",
    "    \n",
    "    if BoxCox_lambda == 0: \n",
    "        y = np.exp(w) \n",
    "    else: \n",
    "        sign = np.sign(BoxCox_lambda*w+1)\n",
    "        y = np.abs(BoxCox_lambda*w+1)**(1/BoxCox_lambda)\n",
    "        y = sign*y \n",
    "        \n",
    "    return y "
   ]
  },
  {
   "cell_type": "code",
   "execution_count": 9,
   "id": "a348b9ad-aa89-4f31-bbde-2f371ad81f34",
   "metadata": {
    "tags": []
   },
   "outputs": [],
   "source": [
    "@njit(nogil=NOGIL, cache=CACHE)\n",
    "def findPQ(ar_coeffs, ma_coeffs): \n",
    "    \"\"\"\n",
    "    Find the length of the AR coefficients (p) \n",
    "    and the length of the MA coefficients (q) \n",
    "    \"\"\"\n",
    "    if ar_coeffs is not None: \n",
    "        p = len(ar_coeffs) \n",
    "    else: \n",
    "        p = 0 \n",
    "    if ma_coeffs is not None: \n",
    "        q = len(ma_coeffs) \n",
    "    else: \n",
    "        q = 0 \n",
    "    return p, q"
   ]
  },
  {
   "cell_type": "markdown",
   "id": "5b8f7d5f-e690-4a3c-9e59-d686a2d0e26e",
   "metadata": {},
   "source": [
    "## TBATS functions "
   ]
  },
  {
   "cell_type": "markdown",
   "id": "35c42a09-72b9-44f4-802b-6c5e024047fb",
   "metadata": {},
   "source": [
    "### createXVector"
   ]
  },
  {
   "cell_type": "code",
   "execution_count": 10,
   "id": "19ecfb1e-c4f6-4d53-84fb-6066703c70f7",
   "metadata": {
    "tags": []
   },
   "outputs": [],
   "source": [
    "@njit(nogil=NOGIL, cache=CACHE)\n",
    "def createXVector(b, s_vector, d_vector, epsilon_vector): \n",
    "\n",
    "    l = 0.0\n",
    "    x = np.array([l])\n",
    "    if b is not None: \n",
    "        x = np.append(x, b)\n",
    "    if s_vector is not None: \n",
    "        x = np.concatenate((x, s_vector))\n",
    "    if d_vector is not None: \n",
    "        x = np.concatenate((x, d_vector)) \n",
    "    if epsilon_vector is not None: \n",
    "        x = np.concatenate((x, epsilon_vector))\n",
    "    \n",
    "    return x "
   ]
  },
  {
   "cell_type": "markdown",
   "id": "41f47d6f-708b-4a5d-ad0f-30dcf74e51cd",
   "metadata": {},
   "source": [
    "### createWMatrixTBATS"
   ]
  },
  {
   "cell_type": "code",
   "execution_count": 11,
   "id": "a58866c3-ec60-4094-aed4-f14151b1a0a9",
   "metadata": {
    "tags": []
   },
   "outputs": [],
   "source": [
    "@njit(nogil=NOGIL, cache=CACHE)\n",
    "def createWMatrixTBATS(phi, k_vector, ar_coeffs, ma_coeffs, tau): \n",
    "    \n",
    "    p, q = findPQ(ar_coeffs, ma_coeffs) \n",
    "\n",
    "    adjPhi = 0 \n",
    "    numSeasonal = 0 \n",
    "    numCols = 1\n",
    "\n",
    "    if phi is not None: \n",
    "        adjPhi = 1 \n",
    "        numCols = numCols+1\n",
    "    if k_vector is not None: \n",
    "        numSeasonal = numSeasonal+len(k_vector) \n",
    "        numCols = numCols+tau \n",
    "    if ar_coeffs is not None: \n",
    "        numCols = numCols+p\n",
    "    if ma_coeffs is not None: \n",
    "        numCols = numCols+q\n",
    "\n",
    "    w_transpose = np.zeros((1, numCols))\n",
    "\n",
    "    if k_vector is not None: \n",
    "        position = adjPhi \n",
    "        for s in range(0, numSeasonal):\n",
    "            for j in range(position+1, position+k_vector[s]+1): \n",
    "                w_transpose[0,j] = 1 \n",
    "            position = position+(2*k_vector[s])\n",
    "\n",
    "    w_transpose[0,0] = 1\n",
    "\n",
    "    if adjPhi == 1: \n",
    "        w_transpose[0,1] = phi\n",
    "\n",
    "    if ar_coeffs is not None: \n",
    "        for i in range(1,p+1): \n",
    "            w_transpose[0,(adjPhi+tau+i)] = ar_coeffs[(i-1)]\n",
    "\n",
    "    if ma_coeffs is not None: \n",
    "        for i in range(1,q+1): \n",
    "            w_transpose[0,(adjPhi+tau+p+i)] = ma_coeffs[(i-1)] \n",
    "\n",
    "    w = np.transpose(w_transpose) \n",
    "\n",
    "    return w_transpose, w "
   ]
  },
  {
   "cell_type": "markdown",
   "id": "fef24dbf-0d0d-4522-b080-78ab5a73b929",
   "metadata": {},
   "source": [
    "### updateGammaBoldTBATS"
   ]
  },
  {
   "cell_type": "code",
   "execution_count": 12,
   "id": "3eccfa91-56d9-416a-b138-3fce55b55e0e",
   "metadata": {
    "tags": []
   },
   "outputs": [],
   "source": [
    "@njit(nogil=NOGIL, cache=CACHE)\n",
    "def updateGammaBoldTBATS(gamma_bold, k_vector, gamma_one_v, gamma_two_v): \n",
    "    endPos = 0 \n",
    "    numK = len(k_vector) \n",
    "\n",
    "    for i in range(numK): \n",
    "        for j in range(endPos, (k_vector[1]+endPos)): \n",
    "            gamma_bold[0,j] = gamma_one_v[i] \n",
    "        for k in range((k_vector[i]+endPos), (2*k_vector[i]+endPos)): \n",
    "            gamma_bold[0,k] = gamma_two_v[i]\n",
    "        endPos = endPos + 2*k_vector[i] \n",
    "\n",
    "    return gamma_bold "
   ]
  },
  {
   "cell_type": "markdown",
   "id": "1d8c0f30-b479-4351-a922-71abd52beee8",
   "metadata": {},
   "source": [
    "### updateGMatrixTBATS"
   ]
  },
  {
   "cell_type": "code",
   "execution_count": 13,
   "id": "680b368c-2fe9-4397-8f56-f22bb90a56bc",
   "metadata": {
    "tags": []
   },
   "outputs": [],
   "source": [
    "@njit(nogil=NOGIL, cache=CACHE)\n",
    "def updateGMatrixTBATS(g, gamma_bold, alpha, beta): \n",
    "    adjust_beta = 0 \n",
    "    g[0,0] = alpha \n",
    "    if beta is not None: \n",
    "        g[1,0] = beta \n",
    "        adjust_beta = 1 \n",
    "    if gamma_bold is not None:  \n",
    "        g[(adjust_beta+1):(adjust_beta+gamma_bold.shape[1]+1), 0] = np.transpose(gamma_bold).reshape((gamma_bold.shape[1],))\n",
    "    return g "
   ]
  },
  {
   "cell_type": "markdown",
   "id": "6eabae8a-a30d-4227-b09c-4aa901b26e82",
   "metadata": {},
   "source": [
    "### updateFMatrixTBATS"
   ]
  },
  {
   "cell_type": "code",
   "execution_count": 14,
   "id": "3517abcc-eb4b-4bc4-82ac-31135928a103",
   "metadata": {
    "tags": []
   },
   "outputs": [],
   "source": [
    "@njit(nogil=NOGIL, cache=CACHE)\n",
    "def makeAIMatrix(C, S, ks): \n",
    "    Ai = np.zeros((ks*2,ks*2))\n",
    "    Ai[0:ks, 0:ks] = C \n",
    "    Ai[0:ks, ks:(ks*2)] = S \n",
    "    Ai[ks:(ks*2), 0:ks] = -1*S\n",
    "    Ai[ks:(ks*2), ks:(ks*2)] = C \n",
    "    return Ai"
   ]
  },
  {
   "cell_type": "code",
   "execution_count": 15,
   "id": "36ce451f-e66f-44b0-9e08-c8fce1285a0f",
   "metadata": {
    "tags": []
   },
   "outputs": [],
   "source": [
    "@njit(nogil=NOGIL, cache=CACHE)\n",
    "def createFMatrixTBATS(alpha, beta, phi, seasonal_periods, k_vector, gamma_bold, ar_coeffs, ma_coeffs): \n",
    "    p, q = findPQ(ar_coeffs, ma_coeffs) \n",
    "\n",
    "    # 1. Alpha row\n",
    "    F = np.array([[1.0]])\n",
    "    if beta is not None:\n",
    "        F = np.concatenate((F, np.array([phi]).reshape(1,1)), axis = 1)\n",
    "    if seasonal_periods is not None: \n",
    "        tau_v = 2*np.nansum(k_vector)\n",
    "        zero_tau = np.zeros(tau).reshape(1, tau_v)\n",
    "        F = np.concatenate((F, zero_tau), axis = 1) \n",
    "    if ar_coeffs is not None: \n",
    "        alpha_phi = alpha*ar_coeffs\n",
    "        alpha_phi = alpha_phi.reshape(F.shape[0], alpha_phi.shape[0]) \n",
    "        F = np.concatenate((F, alpha_phi), axis = 1)\n",
    "    if ma_coeffs is not None: \n",
    "        alpha_theta = alpha*ma_coeffs\n",
    "        alpha_theta = alpha_theta.reshape(F.shape[0], alpha_theta.shape[0]) \n",
    "        F = np.concatenate((F, alpha_theta), axis = 1)\n",
    "\n",
    "    # 2. Beta row \n",
    "    if beta is not None: \n",
    "        beta_row = np.array([[0, phi]]) \n",
    "        if seasonal_periods is not None: \n",
    "            beta_row = np.concatenate((beta_row, zero_tau), axis = 1)\n",
    "        if ar_coeffs is not None: \n",
    "            beta_phi = beta*ar_coeffs \n",
    "            beta_phi = beta_phi.reshape(beta_row.shape[0], beta_phi.shape[0])\n",
    "            beta_row = np.concatenate((beta_row, beta_phi), axis = 1) \n",
    "        if ma_coeffs is not None: \n",
    "            beta_theta = beta*ma_coeffs \n",
    "            beta_theta = beta_theta.reshape(beta_row.shape[0], beta_theta.shape[0]) \n",
    "            beta_row = np.concatenate((beta_row, beta_theta), axis = 1)\n",
    "        F = np.concatenate((F, beta_row), axis = 0)\n",
    "    \n",
    "    # 3. Seasonal row \n",
    "    if seasonal_periods is not None: \n",
    "        seasonal_row = np.transpose(zero_tau)\n",
    "        if beta is not None: \n",
    "            seasonal_row = np.concatenate((seasonal_row, seasonal_row), axis = 1)\n",
    "\n",
    "        # Make A matrix \n",
    "        A = np.zeros((tau_v, tau_v))\n",
    "        last_pos = 0 \n",
    "        for i in range(len(k_vector)): \n",
    "            ks = k_vector[i] \n",
    "            ms = seasonal_periods[i]\n",
    "            if seasonal_periods[i] != 2:\n",
    "                C = np.zeros((ks,ks))\n",
    "                for j in range(1,ks+1): \n",
    "                    l = (2*np.pi*j)/ms \n",
    "                    C[(j-1),(j-1)] = np.cos(l)\n",
    "            else: \n",
    "                C = np.zeros((1,1))\n",
    "            S = np.zeros((ks,ks))\n",
    "            for j in range(1,ks+1): \n",
    "                l = (2*np.pi*j)/ms \n",
    "                S[(j-1),(j-1)] = np.sin(l)\n",
    "            Ai = makeAIMatrix(C, S, ks)         \n",
    "            A[last_pos:(last_pos+2*k_vector[i]), last_pos:(last_pos+2*k_vector[i])] = Ai \n",
    "            last_pos = last_pos+(2*k_vector[i])\n",
    "\n",
    "        seasonal_row = np.concatenate((seasonal_row, A), axis = 1)\n",
    "    \n",
    "        if ar_coeffs is not None: \n",
    "            B = np.outer(gamma_bold, ar_coeffs)\n",
    "            seasonal_row = np.concatenate((seasonal_row, B), axis = 1)\n",
    "        if ma_coeffs is not None: \n",
    "            C = np.outer(gamma_bold, ma_coeffs) \n",
    "            seasonal_row = np.concatenate((seasonal_row, C), axis = 1) \n",
    "\n",
    "        F = np.concatenate((F, seasonal_row), axis = 0)\n",
    "\n",
    "     # 4. AR rows \n",
    "    if ar_coeffs is not None: \n",
    "        p = len(ar_coeffs) \n",
    "        ar_rows = np.zeros((p, 1)) \n",
    "        if beta is not None: \n",
    "            ar_rows = np.concatenate((ar_rows, ar_rows), axis = 1) \n",
    "        if seasonal_periods is not None: \n",
    "            ar_seasonal_zeros = np.zeros((p, tau))\n",
    "            ar_rows = np.concatenate((ar_rows, ar_seasonal_zeros), axis = 1) \n",
    "        ident = np.eye(p-1) \n",
    "        ident = np.concatenate((ident, np.zeros((p-1, 1))), axis = 1) \n",
    "        ar_part = np.concatenate((ar_coeffs.reshape(1, ar_coeffs.shape[0]), ident), axis = 0)\n",
    "        ar_rows = np.concatenate((ar_rows, ar_part), axis = 1)\n",
    "        if ma_coeffs is not None: \n",
    "            q = len(ma_coeffs)\n",
    "            ma_in_ar = np.zeros((p, q)) \n",
    "            ma_in_ar[0,:] = ma_coeffs \n",
    "            ar_rows = np.concatenate((ar_rows, ma_in_ar), axis = 1)\n",
    "        F = np.concatenate((F, ar_rows), axis = 0)\n",
    "        \n",
    "    # 5. MA rows \n",
    "    if ma_coeffs is not None: \n",
    "        q = len(ma_coeffs) \n",
    "        ma_rows = np.zeros((q, 1)) \n",
    "        if beta is not None: \n",
    "            ma_rows = np.concatenate((ma_rows, ma_rows), axis = 1)\n",
    "        if seasonal_periods is not None: \n",
    "            ma_seasonal = np.zeros((q, tau))\n",
    "            ma_rows = np.concatenate((ma_rows, ma_seasonal), axis = 1) \n",
    "        if ar_coeffs is not None: \n",
    "            ar_in_ma = np.zeros((q, p)) \n",
    "            ma_rows = np.concatenate((ma_rows, ar_in_ma), axis = 1) \n",
    "        ident = np.eye(q-1)\n",
    "        ident = np.concatenate((ident, np.zeros((q-1, 1))), axis = 1) \n",
    "        ma_part = np.concatenate((np.zeros((1,q)), ident), axis = 0) \n",
    "        ma_rows = np.concatenate((ma_rows, ma_part), axis = 1) \n",
    "        F = np.concatenate((F, ma_rows), axis = 0)\n",
    "        \n",
    "    return F "
   ]
  },
  {
   "cell_type": "markdown",
   "id": "1d72b726-4e8e-4703-9da5-8388592c14db",
   "metadata": {},
   "source": [
    "### calcTBATSFaster"
   ]
  },
  {
   "cell_type": "code",
   "execution_count": 16,
   "id": "685c9528-dfb7-4770-a454-82c057b9afbc",
   "metadata": {},
   "outputs": [],
   "source": [
    "@njit(nogil=NOGIL, cache=CACHE)\n",
    "def calcTBATSFaster(y_trans, w_transpose, g, F, x_nought): \n",
    "    n = y_trans.shape[0] \n",
    "    dimF = F.shape[0] \n",
    "    \n",
    "    yhat = np.zeros((1,n))\n",
    "    e = np.zeros((1,n))\n",
    "    x = np.zeros((len(x_nought),n))\n",
    "    \n",
    "    yhat[0,0] = np.dot(w_transpose, x_nought).reshape(())\n",
    "    e[0,0] = y_trans[0]-yhat[0,0] \n",
    "    x[:,0] = np.dot(F, x_nought)+(g*e[0,0]).reshape((dimF,))\n",
    "    for j in range(1,y_trans.shape[0]): \n",
    "        yhat[:, j] = np.dot(w_transpose, np.ascontiguousarray(x[:, (j-1)]))\n",
    "        e[0,j] = y_trans[j]-yhat[0,j]\n",
    "        x[:,j] = (np.dot(F,x[:,(j-1)]).reshape((dimF,1))+g*e[0,j]).reshape((dimF,))\n",
    "        \n",
    "    return yhat, e, x"
   ]
  },
  {
   "cell_type": "markdown",
   "id": "9bbdda77-d2cc-4837-9af4-ec3120f5ee6f",
   "metadata": {},
   "source": [
    "### updateWtransposeMatrix"
   ]
  },
  {
   "cell_type": "code",
   "execution_count": 17,
   "id": "27aeb294-9b1b-47cd-a1fb-7b93b71d229c",
   "metadata": {
    "tags": []
   },
   "outputs": [],
   "source": [
    "@njit(nogil=NOGIL, cache=CACHE)\n",
    "def updateWtransposeMatrix(w_transpose, phi, tau, ar_coeffs, ma_coeffs):\n",
    "    p, q = findPQ(ar_coeffs, ma_coeffs) \n",
    "    adjBeta = 0 \n",
    "    if phi is not None: \n",
    "        adjBeta = 1 \n",
    "        w_transpose[0,1] = phi \n",
    "    if p > 0: \n",
    "        if ar_coeffs is not None:\n",
    "            for i in range(1,p+1): \n",
    "                w_transpose[0, adjBeta+tau+i] = ar_coeffs[i-1]\n",
    "        if q > 0: \n",
    "            if ma_coeffs is not None: \n",
    "                for i in range(1,q+1): \n",
    "                    w_transpose[0, adjBeta+tau+p+i] = ma_coeffs[i-1]\n",
    "    elif q > 0: \n",
    "        if ma_coeffs is not None: \n",
    "            for i in range(1,q+1): \n",
    "                w_transpose[0, adjBeta+tau+i] = ma_coeffs[i-1]\n",
    "    return w_transpose"
   ]
  },
  {
   "cell_type": "markdown",
   "id": "92a6e122-8b92-4122-8aa6-995f99dd3728",
   "metadata": {},
   "source": [
    "### updateFMatrixTBATS"
   ]
  },
  {
   "cell_type": "code",
   "execution_count": 18,
   "id": "b9f32ed7-c1ee-4e0a-acea-7ed95c54e455",
   "metadata": {
    "tags": []
   },
   "outputs": [],
   "source": [
    "@njit(nogil=NOGIL, cache=CACHE)\n",
    "def updateFMatrixTBATS(F, phi, alpha, beta, gamma_bold, ar_coeffs, ma_coeffs, tau):\n",
    "    if beta is not None: \n",
    "        F[0,1] = phi \n",
    "        F[1,1] = phi \n",
    "        betaAdjust = 1\n",
    "    else: \n",
    "        betaAdjust = 0 \n",
    "    p, q = findPQ(ar_coeffs, ma_coeffs)\n",
    "    if ar_coeffs is not None:\n",
    "        F[0, (betaAdjust+tau+1):(betaAdjust+tau+p+1)] = alpha*ar_coeffs\n",
    "        if betaAdjust == 1:  \n",
    "            F[1, (betaAdjust+tau+1):(betaAdjust+tau+p+1)] = beta*ar_coeffs \n",
    "        if tau > 0: \n",
    "            B = np.dot(gamma_bold.reshape((gamma_bold.shape[1],1)), ar_coeffs.reshape((1,ar_coeffs.shape[0])))\n",
    "            F[(1+betaAdjust):(betaAdjust+tau+1), (betaAdjust+tau+1):(betaAdjust+tau+p+1)] = B \n",
    "        F[betaAdjust+tau+1,(betaAdjust+tau+1):(betaAdjust+tau+p+1)] = ar_coeffs \n",
    "    if ma_coeffs is not None: \n",
    "        F[0, (betaAdjust+tau+p+1):(betaAdjust+tau+p+q+1)] = alpha*ma_coeffs \n",
    "        if betaAdjust == 1:  \n",
    "            F[1, (betaAdjust+tau+p+1):(betaAdjust+tau+p+q+1)] = beta*ma_coeffs\n",
    "        if tau > 0: \n",
    "            C = np.dot(gamma_bold.reshape((gamma_bold.shape[1],1)),ma_coeffs.reshape((1,ma_coeffs.shape[0]))) \n",
    "            F[(1+betaAdjust):(betaAdjust+tau+1), (betaAdjust+tau+p+1):(betaAdjust+tau+p+q+1)] = C \n",
    "        F[betaAdjust+tau+1,(betaAdjust+tau+p+1):(betaAdjust+tau+p+q+1)] = ma_coeffs \n",
    "\n",
    "    return F "
   ]
  },
  {
   "cell_type": "markdown",
   "id": "4622a01e-b82e-4afc-b86f-d32b5599f238",
   "metadata": {},
   "source": [
    "### checkAdmissibility"
   ]
  },
  {
   "cell_type": "code",
   "execution_count": 19,
   "id": "6e4ac90c-2a7d-44a8-b239-3b34215e9a5a",
   "metadata": {
    "tags": []
   },
   "outputs": [],
   "source": [
    "def checkAdmissibility(BoxCox_lambda, bc_lower_bound, bc_upper_bound, phi, ar_coeffs, ma_coeffs, D): \n",
    "    if BoxCox_lambda is not None: \n",
    "        if (BoxCox_lambda < bc_lower_bound) or (BoxCox_lambda >= bc_upper_bound): \n",
    "            return False \n",
    "\n",
    "    if phi is not None: \n",
    "        if (phi < 0.8) or (phi > 1): \n",
    "            return False \n",
    "\n",
    "    if ar_coeffs is not None:\n",
    "        ar_lags = np.where(np.abs(ar_coeffs) > 1e-8) \n",
    "        ar_count = (np.abs(ar_coeffs) > 1e-8).sum()\n",
    "        if  ar_count > 0: \n",
    "            pval = np.max(ar_lags) \n",
    "            poly = np.polynomial.Polynomial([1]+[-ar_coeffs[i] for i in range(pval+1)])\n",
    "            roots = poly.roots()\n",
    "            if min(np.abs(roots)) < 1+1e-2: \n",
    "                return False \n",
    "            \n",
    "    if ma_coeffs is not None: \n",
    "        ma_lags = np.where(np.abs(ma_coeffs) > 1e-8) \n",
    "        ma_count = (np.abs(ma_coeffs) > 1e-8).sum()\n",
    "        if len(ma_lags) > 0: \n",
    "            qval = np.max(ma_lags) \n",
    "            poly = np.polynomial.Polynomial([1]+[-ma_coeffs[i] for i in range(qval+1)])\n",
    "            roots = poly.roots()\n",
    "            if min(np.abs(roots)) < 1+1e-2: \n",
    "                return False \n",
    "  \n",
    "    D_eigen_values = LA.eigvals(D)\n",
    "    return np.all(abs(D_eigen_values) < 1+1e-2)"
   ]
  },
  {
   "cell_type": "markdown",
   "id": "4ade855f-1cad-4109-8f6a-a09771831119",
   "metadata": {
    "tags": []
   },
   "source": [
    "### extract_params "
   ]
  },
  {
   "cell_type": "code",
   "execution_count": 20,
   "id": "5a6f9245-ee0d-4082-9b92-70a951607ca3",
   "metadata": {
    "tags": []
   },
   "outputs": [],
   "source": [
    "@njit(nogil=NOGIL, cache=CACHE)\n",
    "def set_arma_errors(ar_coeffs, ma_coeffs): \n",
    "    if len(ar_coeffs) == 0: \n",
    "        ar_coeffs = None \n",
    "    if len(ma_coeffs) == 0: \n",
    "        ma_coeffs = None\n",
    "    return ar_coeffs, ma_coeffs"
   ]
  },
  {
   "cell_type": "code",
   "execution_count": 21,
   "id": "8a2ac72c-4905-4e76-bfe0-b1e342c7a867",
   "metadata": {
    "tags": []
   },
   "outputs": [],
   "source": [
    "@njit(nogil=NOGIL, cache=CACHE)\n",
    "def extract_params(params, seasonal_periods, use_boxcox, use_trend, use_damped_trend, use_arma_errors, p, q): \n",
    "    if use_boxcox: \n",
    "        BoxCox_lambda = params[0]\n",
    "        alpha = params[1]\n",
    "        index = 2\n",
    "    else: \n",
    "        BoxCox_lambda = None\n",
    "        alpha = params[0] \n",
    "        index = 1 \n",
    "        \n",
    "    if use_trend and use_damped_trend and use_arma_errors:         \n",
    "        beta = params[index] \n",
    "        phi = params[index+1] \n",
    "        gamma_one_v = params[(index+2):(index+2+len(seasonal_periods))]\n",
    "        gamma_two_v = params[(index+2+len(seasonal_periods)):(index+2+2*len(seasonal_periods))]\n",
    "        ar_coeffs = params[(index+2+2*len(seasonal_periods)):(index+2+2*len(seasonal_periods)+p)]\n",
    "        ma_coeffs = params[(index+2+2*len(seasonal_periods)+p):(index+2+2*len(seasonal_periods)+p+q)]\n",
    "        ar_coeffs, ma_coeffs = set_arma_errors(ar_coeffs, ma_coeffs)\n",
    "    elif use_trend and use_damped_trend and (not use_arma_errors): \n",
    "        beta = params[index] \n",
    "        phi = params[index+1] \n",
    "        gamma_one_v = params[(index+2):(index+2+len(seasonal_periods))]\n",
    "        gamma_two_v = params[(index+2):(index+2+len(seasonal_periods))]\n",
    "        ar_coeffs = None \n",
    "        ma_coeffs = None\n",
    "    elif use_trend and (not use_damped_trend) and use_arma_errors: \n",
    "        beta = params[index] \n",
    "        phi = 1\n",
    "        gamma_one_v = params[(index+1):(index+1+len(seasonal_periods))] \n",
    "        gamma_two_v = params[(index+1+len(seasonal_periods)):(index+1+2*len(seasonal_periods))]\n",
    "        ar_coeffs = params[(index+1+2*len(seasonal_periods)):(index+1+2*len(seasonal_periods)+p)]\n",
    "        ma_coeffs = params[(index+1+2*len(seasonal_periods)+p):(index+1+2*len(seasonal_periods)+p+q)] \n",
    "        ar_coeffs, ma_coeffs = set_arma_errors(ar_coeffs, ma_coeffs)\n",
    "    elif use_trend and (not use_damped_trend) and (not use_arma_errors): \n",
    "        beta = params[index] \n",
    "        phi = 1 \n",
    "        gamma_one_v = params[(index+1):(index+1+len(seasonal_periods))] \n",
    "        gamma_two_v = params[(index+1+len(seasonal_periods)):(index+1+2*len(seasonal_periods))]\n",
    "        ar_coeffs = None\n",
    "        ma_coeffs = None \n",
    "    elif (not use_trend) and (not use_damped_trend) and use_arma_errors: \n",
    "        beta = None\n",
    "        phi = None\n",
    "        gamma_one_v = params[index:(index+len(seasonal_periods))] \n",
    "        gamma_two_v = params[(index+len(seasonal_periods)):(index+2*len(seasonal_periods))]\n",
    "        ar_coeffs = params[(index+2*len(seasonal_periods)):(index+1+2*len(seasonal_periods)+p)]\n",
    "        ma_coeffs = params[(index+2*len(seasonal_periods)+p):(index+1+2*len(seasonal_periods)+p+q)] \n",
    "        ar_coeffs, ma_coeffs = set_arma_errors(ar_coeffs, ma_coeffs)\n",
    "    elif (not use_trend) and (not use_damped_trend) and (not use_arma_errors): \n",
    "        beta = None\n",
    "        phi = None\n",
    "        gamma_one_v = params[index:(index+len(seasonal_periods))]\n",
    "        gamma_two_v = params[(index+len(seasonal_periods)):(index+2*len(seasonal_periods))]\n",
    "        ar_coeffs = None\n",
    "        ma_coeffs = None\n",
    "    else: \n",
    "        raise ValueError(\"use_trend can't be set to False if use_damped_trend is set to True\")\n",
    "        \n",
    "    return BoxCox_lambda, alpha, beta, phi, gamma_one_v, gamma_two_v, ar_coeffs, ma_coeffs "
   ]
  },
  {
   "cell_type": "markdown",
   "id": "eff9d603-70b5-47ec-a73e-95fe2d0600fb",
   "metadata": {},
   "source": [
    "### calcLikelihoodTBATS"
   ]
  },
  {
   "cell_type": "code",
   "execution_count": 22,
   "id": "15009a69-fd12-4fe5-b366-64be0542036d",
   "metadata": {},
   "outputs": [],
   "source": [
    "def calcLikelihoodTBATS(params, use_boxcox, use_trend, use_damped_trend, use_arma_errors, seasonal_periods, tau, y_trans, w_transpose, F, g, gamma_bold, x_nought, bc_lower_bound, bc_upper_bound, p, q): \n",
    "    n = len(y_trans)\n",
    "    \n",
    "    BoxCox_lambda, alpha, beta, phi, gamma_one_v, gamma_two_v, ar_coeffs, ma_coeffs = extract_params(params, seasonal_periods, use_boxcox, use_trend, use_damped_trend, use_arma_errors, p, q)\n",
    "    \n",
    "    w_transpose = updateWtransposeMatrix(w_transpose, phi, tau, ar_coeffs, ma_coeffs) \n",
    "    gamma_bold = updateGammaBoldTBATS(gamma_bold, k_vector, gamma_one_v, gamma_two_v)\n",
    "    g = updateGMatrixTBATS(g, gamma_bold, alpha, beta)\n",
    "    F = updateFMatrixTBATS(F, phi, alpha, beta, gamma_bold, ar_coeffs, ma_coeffs, tau)\n",
    "    \n",
    "    yhat, e, x = calcTBATSFaster(y_trans, w_transpose, g, F, x_nought)\n",
    "    \n",
    "    if use_boxcox: \n",
    "        log_likelihood = n*np.log(np.nansum(e**2))-2*(BoxCox_lambda-1)*np.nansum(np.log(y_trans)) \n",
    "    else: \n",
    "        log_likelihood = n*np.log(np.nansum(e**2))\n",
    "    \n",
    "    D = F-np.dot(g, w_transpose)\n",
    "    \n",
    "    if checkAdmissibility(BoxCox_lambda, bc_lower_bound, bc_upper_bound, phi, ar_coeffs, ma_coeffs, D): \n",
    "        return log_likelihood \n",
    "    else: \n",
    "        return 10**20\n",
    "    \n",
    "    return log_likelihood  "
   ]
  },
  {
   "cell_type": "markdown",
   "id": "58044ead-c090-4529-add5-14dcea045c17",
   "metadata": {},
   "source": [
    "## Dev starts here "
   ]
  },
  {
   "cell_type": "code",
   "execution_count": 23,
   "id": "24bc1b14-3c6b-4d69-8a82-86f2617dc261",
   "metadata": {
    "tags": []
   },
   "outputs": [],
   "source": [
    "# AirPassengers \n",
    "# y = ap \n",
    "# seasonal_periods = np.array([12]) \n",
    "\n",
    "# use_boxcox = True \n",
    "# bc_lower_bound = 0 \n",
    "# bc_upper_bound = 1 \n",
    "\n",
    "# use_trend = True \n",
    "# use_damped_trend = True \n",
    "# use_arma_errors = False \n",
    "\n",
    "# ar_coeffs = None\n",
    "# ma_coeffs = None\n",
    "# p, q = findPQ(ar_coeffs, ma_coeffs) "
   ]
  },
  {
   "cell_type": "code",
   "execution_count": 24,
   "id": "950d2ca8-fc54-4884-be4b-36f30c3376bd",
   "metadata": {
    "tags": []
   },
   "outputs": [],
   "source": [
    "# Electricity consumption\n",
    "y = elec \n",
    "seasonal_periods = np.array([24, 24*7]) \n",
    "\n",
    "use_boxcox = True \n",
    "bc_lower_bound = 0 \n",
    "bc_upper_bound = 1 \n",
    "\n",
    "use_trend = True \n",
    "use_damped_trend = True \n",
    "use_arma_errors = False \n",
    "\n",
    "ar_coeffs = np.array([0.596, 0.2143])\n",
    "ma_coeffs = np.array([0.9819])\n",
    "p, q = findPQ(ar_coeffs, ma_coeffs) "
   ]
  },
  {
   "cell_type": "code",
   "execution_count": null,
   "id": "16d5a8e1-36a3-455b-bfb1-e958c29e6d04",
   "metadata": {},
   "outputs": [],
   "source": []
  },
  {
   "cell_type": "code",
   "execution_count": null,
   "id": "7a417596-395a-4814-be70-6ae87ca849eb",
   "metadata": {},
   "outputs": [],
   "source": []
  },
  {
   "cell_type": "code",
   "execution_count": 25,
   "id": "7ce481a8-50f7-4166-8b26-1ce01eda62e2",
   "metadata": {
    "tags": []
   },
   "outputs": [],
   "source": [
    "# Start \n",
    "seasonal_periods = np.sort(seasonal_periods)\n",
    "k_vector = np.full((len(seasonal_periods),), 1)    \n",
    "    \n",
    "# Check if there are missing values \n",
    "indices = np.where(np.isnan(y))[0]\n",
    "if len(indices) > 0: \n",
    "    max_index = indices[-1]\n",
    "    y = y[max_index+1:len(y)]\n",
    "\n",
    "# Check if there are negative values \n",
    "if np.any(y < 0): \n",
    "    use_boxcox = False "
   ]
  },
  {
   "cell_type": "code",
   "execution_count": 26,
   "id": "269a3e86-df9f-4794-b479-3b3149b8247d",
   "metadata": {
    "tags": []
   },
   "outputs": [],
   "source": [
    "# Initial parameters \n",
    "alpha = 0.09\n",
    "\n",
    "if use_trend: \n",
    "    adjBeta = 1 \n",
    "    beta = 0.05 \n",
    "    b = 0.0\n",
    "    if use_damped_trend: \n",
    "        phi = 0.999 \n",
    "    else: \n",
    "        phi = 1 \n",
    "else: \n",
    "    adjBeta = 0 \n",
    "    beta = None \n",
    "    b = None \n",
    "    phi = None \n",
    "    \n",
    "if seasonal_periods is not None: \n",
    "    gamma_one_v = np.zeros((len(k_vector),))\n",
    "    gamma_two_v = np.zeros((len(k_vector),)) \n",
    "    s_vector = np.zeros((len(k_vector)*2,))\n",
    "    k_vector = k_vector.astype('int')\n",
    "else: \n",
    "    gamma_one_v = None \n",
    "    gamma_two_v = None \n",
    "    s_vector = None\n",
    "\n",
    "if ar_coeffs is not None: \n",
    "    d_vector = np.zeros((len(ar_coeffs),)) \n",
    "else: \n",
    "    d_vector = None\n",
    "    \n",
    "if ma_coeffs is not None: \n",
    "    epsilon_vector = np.zeros((len(ma_coeffs),)) \n",
    "else: \n",
    "    epsilon_vector = None "
   ]
  },
  {
   "cell_type": "code",
   "execution_count": 27,
   "id": "9ebbc1b3-a60a-4fdf-aa46-729f5e8abe2e",
   "metadata": {
    "tags": []
   },
   "outputs": [],
   "source": [
    "# Box-Cox transformation \n",
    "if use_boxcox: \n",
    "    BoxCox_lambda = guerrero(y, seasonal_periods, lower = bc_lower_bound, upper = bc_upper_bound) \n",
    "    y_trans = BoxCox(y, seasonal_periods, BoxCox_lambda) \n",
    "else: \n",
    "    y_trans = y "
   ]
  },
  {
   "cell_type": "code",
   "execution_count": 28,
   "id": "12c2798e-0574-4209-9e2e-5277eb1cb55c",
   "metadata": {
    "tags": []
   },
   "outputs": [],
   "source": [
    "x_nought = createXVector(b, s_vector, d_vector, epsilon_vector) "
   ]
  },
  {
   "cell_type": "code",
   "execution_count": 29,
   "id": "49c7b494-8a1d-4a07-a430-99e020540c46",
   "metadata": {
    "tags": []
   },
   "outputs": [],
   "source": [
    "if seasonal_periods is not None: \n",
    "    tau = 2*sum(k_vector) \n",
    "    tau = tau.astype('int')\n",
    "else: \n",
    "    tau = 0"
   ]
  },
  {
   "cell_type": "code",
   "execution_count": 30,
   "id": "1740636a-8723-4dc1-9cc3-52df86b1384c",
   "metadata": {
    "tags": []
   },
   "outputs": [],
   "source": [
    "# Create matrices \n",
    "w_transpose, w = createWMatrixTBATS(phi, k_vector, ar_coeffs, ma_coeffs, tau)"
   ]
  },
  {
   "cell_type": "code",
   "execution_count": 31,
   "id": "b35ef70d-de39-4d4e-a622-9dcbc77e3b90",
   "metadata": {
    "tags": []
   },
   "outputs": [
    {
     "data": {
      "text/plain": [
       "array([[1.    , 0.999 , 1.    , 0.    , 1.    , 0.    , 0.596 , 0.2143,\n",
       "        0.9819]])"
      ]
     },
     "execution_count": 31,
     "metadata": {},
     "output_type": "execute_result"
    }
   ],
   "source": [
    "w_transpose "
   ]
  },
  {
   "cell_type": "code",
   "execution_count": 32,
   "id": "eec81df5-fdf4-405b-a364-4ba8376d51d6",
   "metadata": {
    "tags": []
   },
   "outputs": [],
   "source": [
    "if seasonal_periods is not None: \n",
    "    gamma_bold = np.zeros((1, 2*np.nansum(k_vector)))\n",
    "    gamma_bold = updateGammaBoldTBATS(gamma_bold, k_vector, gamma_one_v, gamma_two_v)\n",
    "else: \n",
    "    gamma_bold = None   \n",
    "g = np.zeros((2*np.nansum(k_vector)+1+adjBeta+p+q, 1)) \n",
    "if p != 0: \n",
    "    g[(adjBeta+tau+1),0] = 1 \n",
    "if q != 0: \n",
    "    g[(adjBeta+tau+p+1),0] = 1\n",
    "g = updateGMatrixTBATS(g, gamma_bold, alpha, beta)"
   ]
  },
  {
   "cell_type": "code",
   "execution_count": 33,
   "id": "11a4a4ab-3896-4ebf-913c-e01fb9460661",
   "metadata": {
    "tags": []
   },
   "outputs": [
    {
     "data": {
      "text/plain": [
       "array([[0.09],\n",
       "       [0.05],\n",
       "       [0.  ],\n",
       "       [0.  ],\n",
       "       [0.  ],\n",
       "       [0.  ],\n",
       "       [1.  ],\n",
       "       [0.  ],\n",
       "       [1.  ]])"
      ]
     },
     "execution_count": 33,
     "metadata": {},
     "output_type": "execute_result"
    }
   ],
   "source": [
    "g"
   ]
  },
  {
   "cell_type": "code",
   "execution_count": 34,
   "id": "08a97130-8d44-4b94-ac71-7333634a025f",
   "metadata": {
    "tags": []
   },
   "outputs": [],
   "source": [
    "F = createFMatrixTBATS(alpha, beta, phi, seasonal_periods, k_vector, gamma_bold, ar_coeffs, ma_coeffs) "
   ]
  },
  {
   "cell_type": "code",
   "execution_count": 35,
   "id": "30d0241d-e6c3-44b8-9f04-d7e4ae662192",
   "metadata": {
    "tags": []
   },
   "outputs": [
    {
     "data": {
      "text/plain": [
       "array([[ 0.91      ,  0.90909   , -0.09      ,  0.        , -0.09      ,\n",
       "         0.        ,  0.        ,  0.        ,  0.        ],\n",
       "       [-0.05      ,  0.94905   , -0.05      ,  0.        , -0.05      ,\n",
       "         0.        ,  0.        ,  0.        ,  0.        ],\n",
       "       [ 0.        ,  0.        ,  0.96592583,  0.25881905,  0.        ,\n",
       "         0.        ,  0.        ,  0.        ,  0.        ],\n",
       "       [ 0.        ,  0.        , -0.25881905,  0.96592583,  0.        ,\n",
       "         0.        ,  0.        ,  0.        ,  0.        ],\n",
       "       [ 0.        ,  0.        ,  0.        ,  0.        ,  0.9993007 ,\n",
       "         0.03739119,  0.        ,  0.        ,  0.        ],\n",
       "       [ 0.        ,  0.        ,  0.        ,  0.        , -0.03739119,\n",
       "         0.9993007 ,  0.        ,  0.        ,  0.        ],\n",
       "       [-1.        , -0.999     , -1.        ,  0.        , -1.        ,\n",
       "         0.        ,  0.        ,  0.        ,  0.        ],\n",
       "       [ 0.        ,  0.        ,  0.        ,  0.        ,  0.        ,\n",
       "         0.        ,  1.        ,  0.        ,  0.        ],\n",
       "       [-1.        , -0.999     , -1.        ,  0.        , -1.        ,\n",
       "         0.        , -0.596     , -0.2143    , -0.9819    ]])"
      ]
     },
     "execution_count": 35,
     "metadata": {},
     "output_type": "execute_result"
    }
   ],
   "source": [
    "D = F-np.dot(g, w_transpose) \n",
    "D "
   ]
  },
  {
   "cell_type": "code",
   "execution_count": 36,
   "id": "56ad2e87-ad74-44da-8a91-b5b7cbbbdebe",
   "metadata": {
    "tags": []
   },
   "outputs": [
    {
     "name": "stderr",
     "output_type": "stream",
     "text": [
      "C:\\Users\\maria\\AppData\\Local\\Temp\\ipykernel_11444\\876386846.py:16: NumbaPerformanceWarning: \u001b[1m\u001b[1m\u001b[1mnp.dot() is faster on contiguous arrays, called on (array(float64, 2d, C), array(float64, 1d, A))\u001b[0m\u001b[0m\u001b[0m\n",
      "  x[:,j] = (np.dot(F,x[:,(j-1)]).reshape((dimF,1))+g*e[0,j]).reshape((dimF,))\n",
      "C:\\Users\\maria\\AppData\\Local\\Temp\\ipykernel_11444\\876386846.py:16: NumbaPerformanceWarning: \u001b[1m\u001b[1mnp.dot() is faster on contiguous arrays, called on (array(float64, 2d, C), array(float64, 1d, A))\u001b[0m\u001b[0m\n",
      "  x[:,j] = (np.dot(F,x[:,(j-1)]).reshape((dimF,1))+g*e[0,j]).reshape((dimF,))\n"
     ]
    }
   ],
   "source": [
    "## Set up matrices to find seed states \n",
    "yhat, e, x = calcTBATSFaster(y_trans, w_transpose, g, F, x_nought) # R code assigns e to a variable called y.tilda. Here we'll use e directly "
   ]
  },
  {
   "cell_type": "code",
   "execution_count": 37,
   "id": "d52600a0-2894-48d8-92ce-893aba5a77bb",
   "metadata": {
    "tags": []
   },
   "outputs": [
    {
     "data": {
      "text/plain": [
       "-0.066850502638645"
      ]
     },
     "execution_count": 37,
     "metadata": {},
     "output_type": "execute_result"
    }
   ],
   "source": [
    "np.sum(e) "
   ]
  },
  {
   "cell_type": "code",
   "execution_count": 38,
   "id": "a5bfd24e-1b17-4898-a062-a3611444032c",
   "metadata": {
    "tags": []
   },
   "outputs": [],
   "source": [
    "w_tilda_transpose = np.zeros((len(y_trans), w_transpose.shape[1]))\n",
    "w_tilda_transpose[0,:] = w_transpose \n",
    "for k in range(1, w_tilda_transpose.shape[0]): \n",
    "        w_tilda_transpose[k,:] = np.dot(w_tilda_transpose[k-1,:], D)\n",
    "\n",
    "if p != 0 or q!= 0: \n",
    "    end_cut = w_tilda_transpose.shape[1] \n",
    "    start_cut = end_cut-(p+q)\n",
    "    cols = np.arange(0, w_tilda_transpose.shape[1], 1)\n",
    "    new_cols = np.delete(cols, np.arange(start_cut, end_cut, 1))\n",
    "    w_tilda_transpose = w_tilda_transpose[:, new_cols]\n",
    "    \n",
    "model = sm.OLS(e.reshape((e.shape[1],1)), w_tilda_transpose).fit()\n",
    "x_nought = model.params\n",
    "if (p != 0 or q != 0):\n",
    "    arma_seed_states = np.zeros((p+q,))\n",
    "    x_nought = np.concatenate((x_nought, arma_seed_states))"
   ]
  },
  {
   "cell_type": "code",
   "execution_count": 39,
   "id": "e646e691-5e80-4e3b-8d56-2590a23163ff",
   "metadata": {
    "tags": []
   },
   "outputs": [],
   "source": [
    "# Create vector with parameters \n",
    "if use_boxcox: \n",
    "    params = np.concatenate([BoxCox_lambda, np.array([alpha])]) \n",
    "else:  \n",
    "    params = np.array([alpha])\n",
    "if beta is not None:  \n",
    "    params = np.concatenate([params, np.array([beta])])\n",
    "if phi is not None: \n",
    "    params = np.concatenate([params, np.array([phi])]) \n",
    "params = np.concatenate([params, gamma_one_v, gamma_two_v])\n",
    "if ar_coeffs is not None: \n",
    "    params = np.concatenate([params, ar_coeffs])\n",
    "if ma_coeffs is not None: \n",
    "    params = np.concatenate([params, ma_coeffs])"
   ]
  },
  {
   "cell_type": "code",
   "execution_count": 40,
   "id": "c9e9628f-dc82-48ac-b8fe-4356ca0695b9",
   "metadata": {
    "tags": []
   },
   "outputs": [
    {
     "data": {
      "text/plain": [
       "1595.3516356226285"
      ]
     },
     "execution_count": 40,
     "metadata": {},
     "output_type": "execute_result"
    }
   ],
   "source": [
    "calcLikelihoodTBATS(params, use_boxcox, use_trend, use_damped_trend, use_arma_errors, seasonal_periods, tau, y_trans, w_transpose, F, g, gamma_bold, x_nought, bc_lower_bound, bc_upper_bound, p, q)"
   ]
  },
  {
   "cell_type": "code",
   "execution_count": 41,
   "id": "9d55403f-94b0-44ff-97bc-501e96d725ec",
   "metadata": {
    "tags": []
   },
   "outputs": [
    {
     "name": "stdout",
     "output_type": "stream",
     "text": [
      "Optimization problem: 1.0996065139770508\n"
     ]
    }
   ],
   "source": [
    "# Solve optimization problem \n",
    "start = time()\n",
    "optim_params = fmin(calcLikelihoodTBATS, \n",
    "                    params, \n",
    "                    args = (use_boxcox, use_trend, use_damped_trend, use_arma_errors, seasonal_periods, tau, y_trans, w_transpose, F, g, gamma_bold, x_nought, bc_lower_bound, bc_upper_bound, p, q), \n",
    "                    maxiter = 2000,\n",
    "                    disp = False\n",
    "                    )\n",
    "end = time() \n",
    "print('Optimization problem: '+str(end-start)) "
   ]
  },
  {
   "cell_type": "code",
   "execution_count": 42,
   "id": "55b5a5a5-6ffe-4148-a01e-fd9f263c1477",
   "metadata": {},
   "outputs": [
    {
     "data": {
      "text/plain": [
       "array([ 8.57294193e-05, -3.49104088e-02, -2.60895800e-01,  8.00000000e-01,\n",
       "       -1.99770149e-02, -2.36643296e-02,  4.14729193e-02, -1.85520951e-02,\n",
       "        4.02370871e-01, -6.36249894e-01, -5.96777520e+00])"
      ]
     },
     "execution_count": 42,
     "metadata": {},
     "output_type": "execute_result"
    }
   ],
   "source": [
    "optim_params "
   ]
  },
  {
   "cell_type": "code",
   "execution_count": 43,
   "id": "55015add-6c15-463c-8f5b-ee4c2dd518d8",
   "metadata": {
    "tags": []
   },
   "outputs": [],
   "source": [
    "optim_BoxCox_lambda, optim_alpha, optim_beta, optim_phi, optim_gamma_one_v, optim_gamma_two_v, optim_ar_coeffs, optim_ma_coeffs = extract_params(optim_params, \n",
    "                                                                                                                                                 seasonal_periods,\n",
    "                                                                                                                                                 use_boxcox,\n",
    "                                                                                                                                                 use_trend, \n",
    "                                                                                                                                                 use_damped_trend, \n",
    "                                                                                                                                                 use_arma_errors, \n",
    "                                                                                                                                                 p,\n",
    "                                                                                                                                                 q)"
   ]
  },
  {
   "cell_type": "code",
   "execution_count": 44,
   "id": "e5a6727d-2acb-4d3d-9db8-136374743bb1",
   "metadata": {
    "tags": []
   },
   "outputs": [],
   "source": [
    "w = createWMatrixTBATS(optim_phi, k_vector, optim_ar_coeffs, optim_ma_coeffs, tau)\n",
    "gamma_bold = updateGammaBoldTBATS(gamma_bold, k_vector, optim_gamma_one_v, optim_gamma_two_v)\n",
    "g = updateGMatrixTBATS(g, gamma_bold, optim_alpha, optim_beta)\n",
    "F = updateFMatrixTBATS(F, optim_phi, optim_alpha, optim_beta, gamma_bold, optim_ar_coeffs, optim_ma_coeffs, tau)"
   ]
  },
  {
   "cell_type": "code",
   "execution_count": 45,
   "id": "9bfabe08-df0f-4ca4-97dd-0fb7bde7d3a5",
   "metadata": {
    "tags": []
   },
   "outputs": [],
   "source": [
    "fitted, errors, *_ = calcTBATSFaster(y_trans, w_transpose, g, F, x_nought)"
   ]
  },
  {
   "cell_type": "code",
   "execution_count": 46,
   "id": "c7c7b1b2-50a1-43db-b9c4-14998b0a13a3",
   "metadata": {
    "tags": []
   },
   "outputs": [
    {
     "data": {
      "text/plain": [
       "0.0011149158130411639"
      ]
     },
     "execution_count": 46,
     "metadata": {},
     "output_type": "execute_result"
    }
   ],
   "source": [
    "variance = np.sum(errors*errors)/len(y_trans) \n",
    "variance "
   ]
  },
  {
   "cell_type": "code",
   "execution_count": 47,
   "id": "20128d3e-ff4f-4a55-8114-d9b4c6174fb0",
   "metadata": {
    "tags": []
   },
   "outputs": [],
   "source": [
    "fitted_trans = InvBoxCox(fitted, seasonal_periods, optim_BoxCox_lambda)\n",
    "fitted_trans = fitted_trans.reshape((y.shape[0],))"
   ]
  },
  {
   "cell_type": "code",
   "execution_count": 48,
   "id": "2d47d6f4-1352-45f5-98b0-29bea5bac85f",
   "metadata": {
    "tags": []
   },
   "outputs": [],
   "source": [
    "# r_fitted_values = pd.read_csv('tbats_elec.csv')\n",
    "# r_fitted_values = r_fitted_values['fit.fitted.values']"
   ]
  },
  {
   "cell_type": "code",
   "execution_count": 49,
   "id": "073cc7be-f14a-46da-b2a8-c3f85321074e",
   "metadata": {
    "tags": []
   },
   "outputs": [
    {
     "data": {
      "text/plain": [
       "<matplotlib.legend.Legend at 0x2409be45070>"
      ]
     },
     "execution_count": 49,
     "metadata": {},
     "output_type": "execute_result"
    },
    {
     "data": {
      "image/png": "[encoded data removed]",
      "text/plain": [
       "<Figure size 2000x700 with 1 Axes>"
      ]
     },
     "metadata": {},
     "output_type": "display_data"
    }
   ],
   "source": [
    "fig, ax = plt.subplots(1, 1, figsize = (20,7))\n",
    "plt.plot(np.arange(0, len(y)), y, color='black')\n",
    "plt.plot(np.arange(0, len(y)), fitted_trans, color='blue', label = \"fitted values\")\n",
    "#plt.plot(np.arange(0, len(y)), r_fitted_values, color='red', label = \"R-fitted values\")\n",
    "plt.legend()"
   ]
  },
  {
   "cell_type": "markdown",
   "id": "897567e2-089b-4a72-ab9a-8baa6920aa6d",
   "metadata": {},
   "source": [
    "## Number of harmonics in trig models"
   ]
  },
  {
   "cell_type": "code",
   "execution_count": 57,
   "id": "47ddfde4-2b09-427d-b732-cce7256ef841",
   "metadata": {},
   "outputs": [],
   "source": [
    "@njit(nogil=NOGIL, cache=CACHE)\n",
    "def makeSingleFourier(j,m,T): \n",
    "    fourier = np.zeros((T,2))\n",
    "    for t in range(T): \n",
    "        fourier[t,0] = np.cos((2*np.pi*j)/m)\n",
    "        fourier[t,1] = np.sin((2*np.pi*j)/m) \n",
    "    return fourier "
   ]
  },
  {
   "cell_type": "code",
   "execution_count": 58,
   "id": "728fc302-ec7a-4a8e-a9f1-fcd28b3a52da",
   "metadata": {
    "tags": []
   },
   "outputs": [],
   "source": [
    "def calcFTest(r_sse, ur_sse, num_restrictions, num_u_params, num_observations):\n",
    "    num = (r_sse-ur_sse)/num_restrictions \n",
    "    den = r_sse/(num_restrictions-num_u_params)\n",
    "    fstat = num/den \n",
    "    p_value = f.cdf(f.stat, num_restrictions, (num_observations-num_u_params))\n",
    "    return p_value "
   ]
  }
 ],
 "metadata": {
  "kernelspec": {
   "display_name": "Python 3 (ipykernel)",
   "language": "python",
   "name": "python3"
  },
  "language_info": {
   "codemirror_mode": {
    "name": "ipython",
    "version": 3
   },
   "file_extension": ".py",
   "mimetype": "text/x-python",
   "name": "python",
   "nbconvert_exporter": "python",
   "pygments_lexer": "ipython3",
   "version": "3.9.7"
  }
 },
 "nbformat": 4,
 "nbformat_minor": 5
}
